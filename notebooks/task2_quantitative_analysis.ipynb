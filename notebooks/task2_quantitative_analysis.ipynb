{
 "cells": [
  {
   "cell_type": "markdown",
   "metadata": {},
   "source": [
    "# Task 2: Quantitative Analysis of GOOG Stock\n",
    "\n",
    "## Overview\n",
    "This notebook performs quantitative analysis on Google (GOOG) stock data using:\n",
    "- TA-Lib for technical indicators\n",
    "- PyNance for financial metrics\n",
    "- Matplotlib and Plotly for visualization"
   ]
  },
  {
   "cell_type": "markdown",
   "metadata": {},
   "source": [
    "## 1. Setup and Data Loading"
   ]
  },
  {
   "cell_type": "code",
   "execution_count": null,
   "metadata": {},
   "outputs": [],
   "source": [
    "# Import required libraries\n",
    "import os\n",
    "import pandas as pd\n",
    "import numpy as np\n",
    "import matplotlib.pyplot as plt\n",
    "import plotly.graph_objects as go\n",
    "from plotly.subplots import make_subplots\n",
    "import talib\n",
    "import pynance as pn\n",
    "from datetime import datetime, timedelta\n",
    "import seaborn as sns\n",
    "\n",
    "# Set display options\n",
    "pd.set_option('display.max_columns', None)\n",
    "pd.set_option('display.width', 1000)\n",
    "%matplotlib inline"
   ]
  },
  {
   "cell_type": "code",
   "execution_count": null,
   "metadata": {},
   "outputs": [],
   "source": [
    "# Load the data\n",
    "data_path = os.path.join('..', 'yfinance_data (1)', 'yfinance_data', 'GOOG_historical_data.csv')\n",
    "df = pd.read_csv(data_path, parse_dates=['Date'], index_col='Date')\n",
    "\n",
    "# Display basic info\n",
    "print(\"Data shape:\", df.shape)\n",
    "df.head()"
   ]
  },
  {
   "cell_type": "markdown",
   "metadata": {},
   "source": [
    "## 2. Data Preparation"
   ]
  },
  {
   "cell_type": "code",
   "execution_count": null,
   "metadata": {},
   "outputs": [],
   "source": [
    "# Check for missing values\n",
    "print(\"Missing values per column:\")\n",
    "print(df.isnull().sum())\n",
    "\n",
    "# Check data types\n",
    "print(\"\\nData types:\")\n",
    "print(df.dtypes)\n",
    "\n",
    "# Basic statistics\n",
    "print(\"\\nBasic statistics:\")\n",
    "print(df.describe())\n",
    "\n",
    "# Ensure the index is a DatetimeIndex\n",
    "df.index = pd.to_datetime(df.index)\n",
    "\n",
    "# Sort the index\n",
    "df = df.sort_index()"
   ]
  },
  {
   "cell_type": "markdown",
   "metadata": {},
   "source": [
    "## 3. Technical Indicators with TA-Lib"
   ]
  },
  {
   "cell_type": "code",
   "execution_count": null,
   "metadata": {},
   "outputs": [],
   "source": [
    "# Calculate Moving Averages\n",
    "df['SMA_20'] = talib.SMA(df['Close'], timeperiod=20)\n",
    "df['SMA_50'] = talib.SMA(df['Close'], timeperiod=50)\n",
    "df['SMA_200'] = talib.SMA(df['Close'], timeperiod=200)\n",
    "\n",
    "# Calculate RSI (Relative Strength Index)\n",
    "df['RSI_14'] = talib.RSI(df['Close'], timeperiod=14)\n",
    "\n",
    "# Calculate MACD\n",
    "macd, macd_signal, macd_hist = talib.MACD(df['Close'])\n",
    "df['MACD'] = macd\n",
    "df['MACD_signal'] = macd_signal\n",
    "df['MACD_hist'] = macd_hist\n",
    "\n",
    "# Calculate Bollinger Bands\n",
    "upper, middle, lower = talib.BBANDS(df['Close'], timeperiod=20)\n",
    "df['BB_upper'] = upper\n",
    "df['BB_middle'] = middle\n",
    "df['BB_lower'] = lower\n",
    "\n",
    "# Calculate Average True Range (ATR)\n",
    "df['ATR_14'] = talib.ATR(df['High'], df['Low'], df['Close'], timeperiod=14)\n",
    "\n",
    "# Display the first few rows with indicators\n",
    "df[['Close', 'SMA_20', 'SMA_50', 'SMA_200', 'RSI_14', 'MACD', 'MACD_signal']].tail()"
   ]
  },
  {
   "cell_type": "markdown",
   "metadata": {},
   "source": [
    "## 4. Financial Metrics with PyNance"
   ]
  },
  {
   "cell_type": "code",
   "execution_count": null,
   "metadata": {},
   "outputs": [],
   "source": [
    "# Calculate daily returns\n",
    "df['Daily_Return'] = df['Close'].pct_change() * 100\n",
    "\n",
    "# Calculate cumulative returns\n",
    "df['Cumulative_Return'] = (1 + df['Daily_Return']/100).cumprod() - 1\n",
    "\n",
    "# Calculate volatility (20-day rolling standard deviation of returns)\n",
    "df['Volatility_20D'] = df['Daily_Return'].rolling(window=20).std() * np.sqrt(252)  # Annualized\n",
    "\n",
    "# Calculate Simple Moving Average of Volume\n",
    "df['Volume_SMA_20'] = df['Volume'].rolling(window=20).mean()\n",
    "\n",
    "# Calculate Drawdown\n",
    "df['Cumulative_Max'] = df['Close'].cummax()\n",
    "df['Drawdown'] = (df['Close'] - df['Cumulative_Max']) / df['Cumulative_Max'] * 100\n",
    "\n",
    "# Display the first few rows with financial metrics\n",
    "df[['Close', 'Daily_Return', 'Cumulative_Return', 'Volatility_20D', 'Volume', 'Volume_SMA_20', 'Drawdown']].tail()"
   ]
  },
  {
   "cell_type": "markdown",
   "metadata": {},
   "source": [
    "## 5. Data Visualization"
   ]
  },
  {
   "cell_type": "code",
   "execution_count": null,
   "metadata": {},
   "outputs": [],
   "source": [
    "# Create subplot figure\n",
    "fig = make_subplots(rows=3, cols=1, shared_xaxes=True, \n",
    "                   vertical_spacing=0.03, \n",
    "                   row_heights=[0.6, 0.2, 0.2],\n",
    "                   subplot_titles=('Price and Moving Averages', 'RSI', 'Volume'))\n",
    "\n",
    "# 1. Price and Moving Averages\n",
    "fig.add_trace(\n",
    "    go.Candlestick(x=df.index,\n",
    "                 open=df['Open'],\n",
    "                 high=df['High'],\n",
    "                 low=df['Low'],\n",
    "                 close=df['Close'],\n",
    "                 name='Price'),\n",
    "    row=1, col=1\n",
    ")\n",
    "\n",
    "# Add Moving Averages\n",
    "for ma in ['SMA_20', 'SMA_50', 'SMA_200']:\n",
    "    fig.add_trace(\n",
    "        go.Scatter(x=df.index, y=df[ma], name=ma, visible='legendonly'),\n",
    "        row=1, col=1\n",
    "    )\n",
    "\n",
    "# Add Bollinger Bands\n",
    "fig.add_trace(\n",
    "    go.Scatter(x=df.index, y=df['BB_upper'], name='BB Upper',\n",
    "               line=dict(color='rgba(255, 0, 0, 0.3)'), showlegend=False),\n",
    "    row=1, col=1\n",
    ")\n",
    "\n",
    "fig.add_trace(\n",
    "    go.Scatter(x=df.index, y=df['BB_lower'], name='BB Lower',\n",
    "               fill='tonexty',\n",
    "               line=dict(color='rgba(255, 0, 0, 0.3)'), showlegend=False),\n",
    "    row=1, col=1\n",
    ")\n",
    "\n",
    "# 2. RSI\n",
    "fig.add_trace(\n",
    "    go.Scatter(x=df.index, y=df['RSI_14'], name='RSI 14'),\n",
    "    row=2, col=1\n",
    ")\n",
    "\n",
    "# Add RSI reference lines\n",
    "fig.add_hline(y=70, line_dash='dash', line_color='red', row=2, col=1, opacity=0.3)\n",
    "fig.add_hline(y=30, line_dash='dash', line_color='green', row=2, col=1, opacity=0.3)\n",
    "\n",
    "# 3. Volume\n",
    "fig.add_trace(\n",
    "    go.Bar(x=df.index, y=df['Volume'], name='Volume', marker_color='blue', opacity=0.5),\n",
    "    row=3, col=1\n",
    ")\n",
    "\n",
    "# Add Volume SMA\n",
    "fig.add_trace(\n",
    "    go.Scatter(x=df.index, y=df['Volume_SMA_20'], name='Volume SMA 20',\n",
    "               line=dict(color='red', width=1)),\n",
    "    row=3, col=1\n",
    ")\n",
    
